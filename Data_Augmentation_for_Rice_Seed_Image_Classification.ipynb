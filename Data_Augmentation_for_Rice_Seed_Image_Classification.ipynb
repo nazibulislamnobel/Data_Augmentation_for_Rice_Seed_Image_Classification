{
  "nbformat": 4,
  "nbformat_minor": 0,
  "metadata": {
    "colab": {
      "provenance": []
    },
    "kernelspec": {
      "name": "python3",
      "display_name": "Python 3"
    },
    "language_info": {
      "name": "python"
    }
  },
  "cells": [
    {
      "cell_type": "code",
      "source": [
        "import os\n",
        "import cv2\n",
        "import numpy as np\n",
        "from tensorflow.keras.preprocessing.image import ImageDataGenerator"
      ],
      "metadata": {
        "id": "uwwBoAMd6EaE"
      },
      "execution_count": null,
      "outputs": []
    },
    {
      "cell_type": "code",
      "source": [
        "dataset_path = \"/content/drive/MyDrive/Rice_Seed_Dataset\""
      ],
      "metadata": {
        "id": "pzoyGrus6D2v"
      },
      "execution_count": null,
      "outputs": []
    },
    {
      "cell_type": "code",
      "source": [
        "augmentation_datagen = ImageDataGenerator(\n",
        "    rotation_range=20,\n",
        "    width_shift_range=0.2,\n",
        "    height_shift_range=0.2,\n",
        "    shear_range=0.2,\n",
        "    zoom_range=0.2,\n",
        "    horizontal_flip=True,\n",
        "    fill_mode=\"nearest\"\n",
        ")"
      ],
      "metadata": {
        "id": "rcuOkW1p6D1U"
      },
      "execution_count": null,
      "outputs": []
    },
    {
      "cell_type": "code",
      "source": [
        "augmented_path = os.path.join(dataset_path, \"Augmented\")\n",
        "os.makedirs(augmented_path, exist_ok=True)"
      ],
      "metadata": {
        "id": "ApbRmPYh6Dz-"
      },
      "execution_count": null,
      "outputs": []
    },
    {
      "cell_type": "code",
      "source": [
        "subfolders = [\"Healthy_Images\", \"Unhealthy_Images\"]"
      ],
      "metadata": {
        "id": "6qXSf4K16Dya"
      },
      "execution_count": null,
      "outputs": []
    },
    {
      "cell_type": "code",
      "source": [
        "for subfolder in subfolders:\n",
        "    subfolder_path = os.path.join(dataset_path, subfolder)\n",
        "    augmented_subfolder_path = os.path.join(augmented_path, subfolder)\n",
        "    os.makedirs(augmented_subfolder_path, exist_ok=True)"
      ],
      "metadata": {
        "id": "1ndzHxuR6Dwc"
      },
      "execution_count": null,
      "outputs": []
    },
    {
      "cell_type": "code",
      "source": [
        "    image_files = [f for f in os.listdir(subfolder_path) if f.endswith(\".jpg\")]\n",
        "    num_original_images = len(image_files)\n",
        "    desired_total_images = 5000 #Depend on your data\n",
        "    num_augmented_images_per_original = (desired_total_images - num_original_images) // num_original_images"
      ],
      "metadata": {
        "id": "YmolA2qo6Du2"
      },
      "execution_count": null,
      "outputs": []
    },
    {
      "cell_type": "code",
      "source": [
        "    for image_file in image_files:\n",
        "        image_path = os.path.join(subfolder_path, image_file)\n",
        "        img = cv2.imread(image_path)\n",
        "        img = cv2.cvtColor(img, cv2.COLOR_BGR2RGB)\n",
        "        img = img.reshape((1,) + img.shape)\n",
        "        num_augmented_images = num_augmented_images_per_original\n",
        "        i = 0"
      ],
      "metadata": {
        "id": "xelzIG986QGj"
      },
      "execution_count": null,
      "outputs": []
    },
    {
      "cell_type": "code",
      "source": [
        "        for batch in augmentation_datagen.flow(img, batch_size=1):\n",
        "            augmented_image = batch[0].astype(np.uint8)\n",
        "            augmented_image_file = os.path.splitext(image_file)[0] + f\"_aug_{i}.jpg\"\n",
        "            augmented_image_path = os.path.join(augmented_subfolder_path, augmented_image_file)\n",
        "            cv2.imwrite(augmented_image_path, cv2.cvtColor(augmented_image, cv2.COLOR_RGB2BGR))\n",
        "            i += 1\n",
        "            if i >= num_augmented_images:\n",
        "                break"
      ],
      "metadata": {
        "id": "J4B0-dps6Drb"
      },
      "execution_count": null,
      "outputs": []
    },
    {
      "cell_type": "code",
      "source": [
        "print(\"Data augmentation complete.\")"
      ],
      "metadata": {
        "id": "Wz0cm1P06dMS"
      },
      "execution_count": null,
      "outputs": []
    }
  ]
}